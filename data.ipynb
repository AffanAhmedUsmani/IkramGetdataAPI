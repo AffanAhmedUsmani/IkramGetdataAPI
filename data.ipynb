{
 "cells": [
  {
   "cell_type": "markdown",
   "metadata": {},
   "source": [
    "imports"
   ]
  },
  {
   "cell_type": "code",
   "execution_count": 9,
   "metadata": {},
   "outputs": [],
   "source": [
    "import sys\n",
    "import os\n",
    "from twocaptcha import TwoCaptcha\n",
    "from PIL import Image, ImageOps, ImageEnhance\n",
    "import cv2\n",
    "import numpy as np\n",
    "from selenium import webdriver\n",
    "from selenium.webdriver.common.by import By\n",
    "from selenium.webdriver.chrome.options import Options"
   ]
  },
  {
   "cell_type": "code",
   "execution_count": 10,
   "metadata": {},
   "outputs": [],
   "source": [
    "\n",
    "\n",
    "def preprocess_and_save_image(input_path):\n",
    "    # Open the image\n",
    "    image = Image.open(input_path)\n",
    "\n",
    "    # Convert the image to grayscale\n",
    "    gray_image = ImageOps.grayscale(image)\n",
    "\n",
    "    # Increase the contrast of the image\n",
    "    enhancer = ImageEnhance.Contrast(gray_image)\n",
    "    contrast_image = enhancer.enhance(2.0)\n",
    "\n",
    "    # Apply thresholding to create a binary image\n",
    "    _, binary_image = cv2.threshold(np.array(contrast_image), 128, 255, cv2.THRESH_BINARY)\n",
    "\n",
    "    # Invert the binary image\n",
    "    inverted_image = Image.fromarray(cv2.bitwise_not(binary_image))\n",
    "    # Return the inverted image\n",
    "    return inverted_image\n",
    "\n",
    "\n",
    "processed_image = preprocess_and_save_image(input_image_path)\n",
    "\n"
   ]
  },
  {
   "cell_type": "code",
   "execution_count": 7,
   "metadata": {},
   "outputs": [
    {
     "name": "stdout",
     "output_type": "stream",
     "text": [
      "solved: {'captchaId': '75402669805', 'code': 'phch4y'}\n"
     ]
    }
   ],
   "source": [
    "def captcha_Response(processed_image):\n",
    "    captcha_parameters = {'numeric': 4,\n",
    "                                'minLength': 6,\n",
    "                                'maxLength': 6,\n",
    "                                'phrase': 0,\n",
    "                                'caseSensitive': 1,\n",
    "                                'calc': 0,\n",
    "                                'lang': 'en'}\n",
    "\n",
    "    # export APIKEY_2CAPTCHA=1abc234de56fab7c89012d34e56fa7b8 on Linux or macOS\n",
    "    # set APIKEY_2CAPTCHA=1abc234de56fab7c89012d34e56fa7b8 on Windows\n",
    "    # in this example we store the API key inside environment variables that can be set like:\n",
    "    # export APIKEY_2CAPTCHA=1abc234de56fab7c89012d34e56fa7b8 on Linux or macOS\n",
    "    # set APIKEY_2CAPTCHA=1abc234de56fab7c89012d34e56fa7b8 on Windows\n",
    "    # you can just set the API key directly to it's value like:\n",
    "    # api_key=\"1abc234de56fab7c89012d34e56fa7b8\"\n",
    "    api_key = os.getenv('1abc234de56fab7c89012d34e56fa7b8', '9ab4de74da11f917e1943b105f0d6935')\n",
    "\n",
    "    solver = TwoCaptcha(api_key)\n",
    "\n",
    "    try:\n",
    "        result = solver.normal(processed_image,**captcha_parameters)\n",
    "\n",
    "    except :\n",
    "        result = \"False\"\n",
    "    result =str(result)\n",
    "    return result"
   ]
  },
  {
   "cell_type": "code",
   "execution_count": null,
   "metadata": {},
   "outputs": [],
   "source": [
    "def login_to_website():\n",
    "    chrome_options = Options()\n",
    "    chrome_options.add_experimental_option(\"detach\", True)\n",
    "    # chrome_options.add_experimental_option(\"debuggerAddress\", \"localhost:9014\")\n",
    "    driver = webdriver.Chrome(options=chrome_options)\n",
    "    # driver=webdriver.Chrome()\n",
    "    url='https://dlims.punjab.gov.pk/verify'\n",
    "    driver.get(url)\n",
    "    # element = driver.find_element(By.XPATH,'//*[@id=\"Wrapper\"]/div[2]/div/div/div[1]/div/form/div[4]/span/img') # find part of the page you want image of\n",
    "    # location = element.location\n",
    "    # size = element.size\n",
    "    # driver.save_screenshot('screenshot.png')\n",
    "    \n",
    "    captcha_img_url = driver.find_element(By.CSS_SELECTOR, '.captcha-img img').get_attribute('src')\n",
    "\n",
    "    driver.find_element(By.XPATH,'//*[@id=\"cnicInput\"]').send_keys('1234-50678900-1')\n",
    "    driver.find_element(By.XPATH,'//*[@id=\"licenseNumber\"]').send_keys('ABC-123')\n",
    "    print(\"imageurl==>\",captcha_img_url)\n",
    "    captcha_text=get_captcha_text(captcha_img_url)\n",
    "    driver.find_element(By.XPATH,'//*[@id=\"captcha\"]').send_keys(captcha_text)\n",
    "    driver.find_element(By.XPATH,'//*[@id=\"submit-btn\"]').click()"
   ]
  }
 ],
 "metadata": {
  "kernelspec": {
   "display_name": "env",
   "language": "python",
   "name": "python3"
  },
  "language_info": {
   "codemirror_mode": {
    "name": "ipython",
    "version": 3
   },
   "file_extension": ".py",
   "mimetype": "text/x-python",
   "name": "python",
   "nbconvert_exporter": "python",
   "pygments_lexer": "ipython3",
   "version": "3.11.6"
  }
 },
 "nbformat": 4,
 "nbformat_minor": 2
}
